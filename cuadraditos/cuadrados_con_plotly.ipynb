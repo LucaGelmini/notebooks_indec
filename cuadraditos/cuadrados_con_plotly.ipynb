{
  "cells": [
    {
      "cell_type": "code",
      "execution_count": 15,
      "metadata": {
        "id": "N3AskZ3PrhMn"
      },
      "outputs": [],
      "source": [
        "#import plotly.express as px\n",
        "#import plotly as plotly\n",
        "import plotly.graph_objects as go\n",
        "import numpy as np\n",
        "import pandas as pd"
      ]
    },
    {
      "cell_type": "code",
      "execution_count": 16,
      "metadata": {},
      "outputs": [],
      "source": [
        "from styleframe import StyleFrame as sf"
      ]
    },
    {
      "cell_type": "code",
      "execution_count": 80,
      "metadata": {},
      "outputs": [],
      "source": [
        "df = pd.read_excel(r'totales_complejos_1sem_2021.xlsx')\n",
        "#df = df.loc[['ncomplejo'], ['nsubcomplejo'], ['ngrupo'], ['partim']]\n",
        "df = df[['ncomplejo', 'nsubcomplejo','ngrupo','complejo_exportador','partim','fob_aactm']]"
      ]
    },
    {
      "cell_type": "code",
      "execution_count": 91,
      "metadata": {},
      "outputs": [
        {
          "data": {
            "text/html": [
              "<div>\n",
              "<style scoped>\n",
              "    .dataframe tbody tr th:only-of-type {\n",
              "        vertical-align: middle;\n",
              "    }\n",
              "\n",
              "    .dataframe tbody tr th {\n",
              "        vertical-align: top;\n",
              "    }\n",
              "\n",
              "    .dataframe thead th {\n",
              "        text-align: right;\n",
              "    }\n",
              "</style>\n",
              "<table border=\"1\" class=\"dataframe\">\n",
              "  <thead>\n",
              "    <tr style=\"text-align: right;\">\n",
              "      <th></th>\n",
              "      <th>ncomplejo</th>\n",
              "      <th>nsubcomplejo</th>\n",
              "      <th>ngrupo</th>\n",
              "      <th>complejo_exportador</th>\n",
              "      <th>partim</th>\n",
              "      <th>fob_aactm</th>\n",
              "    </tr>\n",
              "  </thead>\n",
              "  <tbody>\n",
              "    <tr>\n",
              "      <th>0</th>\n",
              "      <td>0</td>\n",
              "      <td>NaN</td>\n",
              "      <td>NaN</td>\n",
              "      <td>Total exportaciones:</td>\n",
              "      <td>100.0</td>\n",
              "      <td>35373</td>\n",
              "    </tr>\n",
              "    <tr>\n",
              "      <th>1</th>\n",
              "      <td>1</td>\n",
              "      <td>NaN</td>\n",
              "      <td>NaN</td>\n",
              "      <td>---Sector oleaginoso</td>\n",
              "      <td>37.0</td>\n",
              "      <td>13100</td>\n",
              "    </tr>\n",
              "    <tr>\n",
              "      <th>2</th>\n",
              "      <td>1</td>\n",
              "      <td>1.0</td>\n",
              "      <td>NaN</td>\n",
              "      <td>------Complejo soja</td>\n",
              "      <td>33.6</td>\n",
              "      <td>11900</td>\n",
              "    </tr>\n",
              "    <tr>\n",
              "      <th>8</th>\n",
              "      <td>1</td>\n",
              "      <td>3.0</td>\n",
              "      <td>NaN</td>\n",
              "      <td>------Complejo girasol</td>\n",
              "      <td>1.9</td>\n",
              "      <td>689</td>\n",
              "    </tr>\n",
              "    <tr>\n",
              "      <th>12</th>\n",
              "      <td>1</td>\n",
              "      <td>2.0</td>\n",
              "      <td>NaN</td>\n",
              "      <td>------Complejo maní</td>\n",
              "      <td>1.3</td>\n",
              "      <td>452</td>\n",
              "    </tr>\n",
              "    <tr>\n",
              "      <th>...</th>\n",
              "      <td>...</td>\n",
              "      <td>...</td>\n",
              "      <td>...</td>\n",
              "      <td>...</td>\n",
              "      <td>...</td>\n",
              "      <td>...</td>\n",
              "    </tr>\n",
              "    <tr>\n",
              "      <th>158</th>\n",
              "      <td>17</td>\n",
              "      <td>NaN</td>\n",
              "      <td>NaN</td>\n",
              "      <td>---Complejo yerba mate</td>\n",
              "      <td>0.1</td>\n",
              "      <td>38</td>\n",
              "    </tr>\n",
              "    <tr>\n",
              "      <th>159</th>\n",
              "      <td>17</td>\n",
              "      <td>1.0</td>\n",
              "      <td>NaN</td>\n",
              "      <td>------Complejo yerba mate</td>\n",
              "      <td>0.1</td>\n",
              "      <td>38</td>\n",
              "    </tr>\n",
              "    <tr>\n",
              "      <th>162</th>\n",
              "      <td>19</td>\n",
              "      <td>NaN</td>\n",
              "      <td>NaN</td>\n",
              "      <td>---Complejo equino</td>\n",
              "      <td>0.1</td>\n",
              "      <td>37</td>\n",
              "    </tr>\n",
              "    <tr>\n",
              "      <th>163</th>\n",
              "      <td>19</td>\n",
              "      <td>1.0</td>\n",
              "      <td>NaN</td>\n",
              "      <td>------Complejo equino</td>\n",
              "      <td>0.1</td>\n",
              "      <td>37</td>\n",
              "    </tr>\n",
              "    <tr>\n",
              "      <th>166</th>\n",
              "      <td>99</td>\n",
              "      <td>NaN</td>\n",
              "      <td>NaN</td>\n",
              "      <td>---Resto de exportaciones</td>\n",
              "      <td>8.1</td>\n",
              "      <td>2874</td>\n",
              "    </tr>\n",
              "  </tbody>\n",
              "</table>\n",
              "<p>61 rows × 6 columns</p>\n",
              "</div>"
            ],
            "text/plain": [
              "     ncomplejo  nsubcomplejo  ngrupo        complejo_exportador  partim  \\\n",
              "0            0           NaN     NaN       Total exportaciones:   100.0   \n",
              "1            1           NaN     NaN       ---Sector oleaginoso    37.0   \n",
              "2            1           1.0     NaN        ------Complejo soja    33.6   \n",
              "8            1           3.0     NaN     ------Complejo girasol     1.9   \n",
              "12           1           2.0     NaN        ------Complejo maní     1.3   \n",
              "..         ...           ...     ...                        ...     ...   \n",
              "158         17           NaN     NaN     ---Complejo yerba mate     0.1   \n",
              "159         17           1.0     NaN  ------Complejo yerba mate     0.1   \n",
              "162         19           NaN     NaN         ---Complejo equino     0.1   \n",
              "163         19           1.0     NaN      ------Complejo equino     0.1   \n",
              "166         99           NaN     NaN  ---Resto de exportaciones     8.1   \n",
              "\n",
              "     fob_aactm  \n",
              "0        35373  \n",
              "1        13100  \n",
              "2        11900  \n",
              "8          689  \n",
              "12         452  \n",
              "..         ...  \n",
              "158         38  \n",
              "159         38  \n",
              "162         37  \n",
              "163         37  \n",
              "166       2874  \n",
              "\n",
              "[61 rows x 6 columns]"
            ]
          },
          "execution_count": 91,
          "metadata": {},
          "output_type": "execute_result"
        }
      ],
      "source": [
        "i_son_nan = []\n",
        "for i, a in enumerate(df.nsubcomplejo):\n",
        "    if (np.isnan(a)):\n",
        "        i_son_nan.append(i)\n",
        "df_complejos = df.iloc[i_son_nan]\n",
        "\n",
        "i_son_nan = []\n",
        "for i, a in enumerate(df.ngrupo):\n",
        "    if (np.isnan(a)):\n",
        "        i_son_nan.append(i)\n",
        "df_subcomplejos = df.iloc[i_son_nan]\n",
        "\n",
        "for complejo in df_complejos:\n",
        "    for subc in df_subcomplejos:\n",
        "        if(subc == complejo):\n",
        "            del subc\n",
        "\n",
        "df_subcomplejos\n"
      ]
    },
    {
      "cell_type": "code",
      "execution_count": 189,
      "metadata": {},
      "outputs": [],
      "source": [
        "def busca_padres (df, ncomplejo, nsubcomplejo):\n",
        "    ncomplejo = ncomplejo.values[0]\n",
        "    nsubcomplejo = nsubcomplejo.values[0]\n",
        "\n",
        "    if ncomplejo == 0:\n",
        "        return ''\n",
        "    elif np.isnan(nsubcomplejo):\n",
        "        padre = df.loc[(df.ncomplejo == ncomplejo)&(np.isnan(df.nsubcomplejo))]\n",
        "        padre = padre.complejo_exportador.values[0]\n",
        "        \n",
        "        return padre\n",
        "    else:\n",
        "        padre = df.loc[(df.ncomplejo == ncomplejo)&(df.nsubcomplejo == nsubcomplejo)&(np.isnan(df.ngrupo))]\n",
        "        padre = padre.complejo_exportador.values[0]\n",
        "        return padre"
      ]
    },
    {
      "cell_type": "code",
      "execution_count": 161,
      "metadata": {},
      "outputs": [],
      "source": [
        "def lista_padres (df):\n",
        "    padres = []\n",
        "    for i in range(len(df)):\n",
        "        complejo = df.iloc[[i]]\n",
        "        padres.append(busca_padres(df, complejo.ncomplejo, complejo.nsubcomplejo))\n",
        "    return padres\n",
        "            "
      ]
    },
    {
      "cell_type": "code",
      "execution_count": 190,
      "metadata": {},
      "outputs": [
        {
          "data": {
            "text/plain": [
              "['',\n",
              " '---Sector oleaginoso',\n",
              " '------Complejo soja',\n",
              " '------Complejo soja',\n",
              " '------Complejo soja',\n",
              " '------Complejo soja',\n",
              " '------Complejo soja',\n",
              " '------Complejo soja',\n",
              " '------Complejo girasol',\n",
              " '------Complejo girasol',\n",
              " '------Complejo girasol',\n",
              " '------Complejo girasol',\n",
              " '------Complejo maní',\n",
              " '------Complejo maní',\n",
              " '------Complejo maní',\n",
              " '------Complejo maní',\n",
              " '------Complejo olivícola',\n",
              " '------Complejo olivícola',\n",
              " '------Complejo olivícola',\n",
              " '------Complejo olivícola',\n",
              " '---Sector cerealero',\n",
              " '------Complejo maicero',\n",
              " '------Complejo maicero',\n",
              " '------Complejo maicero',\n",
              " '------Complejo triguero',\n",
              " '------Complejo triguero',\n",
              " '------Complejo triguero',\n",
              " '------Complejo cebada',\n",
              " '------Complejo cebada',\n",
              " '------Complejo cebada',\n",
              " '------Complejo cebada',\n",
              " '------Complejo arrocero',\n",
              " '------Complejo arrocero',\n",
              " '------Complejo arrocero',\n",
              " '---Complejo automotriz',\n",
              " '------Complejo automotriz',\n",
              " '------Complejo automotriz',\n",
              " '------Complejo automotriz',\n",
              " '------Complejo automotriz',\n",
              " '---Sector bovino',\n",
              " '------Complejo carne y cuero bovinos',\n",
              " '------Complejo carne y cuero bovinos',\n",
              " '------Complejo carne y cuero bovinos',\n",
              " '------Complejo lácteo',\n",
              " '------Complejo lácteo',\n",
              " '---Complejo petrolero-petroquímico',\n",
              " '------Complejo petrolero-petroquímico',\n",
              " '------Complejo petrolero-petroquímico',\n",
              " '------Complejo petrolero-petroquímico',\n",
              " '---Sector minero metalífero y litio',\n",
              " '------Complejo oro y plata',\n",
              " '------Complejo oro y plata',\n",
              " '------Complejo oro y plata',\n",
              " '------Complejo oro y plata',\n",
              " '------Complejo oro y plata',\n",
              " '------Complejo siderúrgico',\n",
              " '------Complejo siderúrgico',\n",
              " '------Complejo siderúrgico',\n",
              " '------Complejo siderúrgico',\n",
              " '------Complejo aluminio',\n",
              " '------Complejo aluminio',\n",
              " '------Complejo aluminio',\n",
              " '------Complejo aluminio',\n",
              " '------Complejo litio',\n",
              " '------Complejo litio',\n",
              " '------Complejo litio',\n",
              " '------Complejo litio',\n",
              " '------Complejo otros minerales metalíferos',\n",
              " '------Complejo otros minerales metalíferos',\n",
              " '------Complejo plomo',\n",
              " '------Complejo plomo',\n",
              " '------Complejo plomo',\n",
              " '---Sector frutícola',\n",
              " '------Complejo uva',\n",
              " '------Complejo uva',\n",
              " '------Complejo uva',\n",
              " '------Complejo uva',\n",
              " '------Complejo uva',\n",
              " '------Complejo uva',\n",
              " '------Complejo peras y manzanas',\n",
              " '------Complejo peras y manzanas',\n",
              " '------Complejo peras y manzanas',\n",
              " '------Complejo peras y manzanas',\n",
              " '------Complejo limón',\n",
              " '------Complejo limón',\n",
              " '------Complejo limón',\n",
              " '------Complejo limón',\n",
              " '------Complejo resto del sector frutícola',\n",
              " '------Complejo resto del sector frutícola',\n",
              " '------Complejo cítricos, excluido el limón',\n",
              " '------Complejo cítricos, excluido el limón',\n",
              " '------Complejo cítricos, excluido el limón',\n",
              " '------Complejo cítricos, excluido el limón',\n",
              " '------Complejo arándanos y frutos similares',\n",
              " '------Complejo arándanos y frutos similares',\n",
              " '------Complejo arándanos y frutos similares',\n",
              " '---Complejo pesquero',\n",
              " '------Complejo pesquero',\n",
              " '------Complejo pesquero',\n",
              " '------Complejo pesquero',\n",
              " '------Complejo pesquero',\n",
              " '---Complejo farmacéutico',\n",
              " '------Complejo farmacéutico',\n",
              " '------Complejo farmacéutico',\n",
              " '------Complejo farmacéutico',\n",
              " '---Sector hortícola',\n",
              " '------Complejo porotos',\n",
              " '------Complejo porotos',\n",
              " '------Complejo porotos',\n",
              " '------Complejo papa',\n",
              " '------Complejo papa',\n",
              " '------Complejo papa',\n",
              " '------Complejo papa',\n",
              " '------Complejo ajo',\n",
              " '------Complejo ajo',\n",
              " '------Complejo ajo',\n",
              " '------Complejo resto del sector hortícola',\n",
              " '------Complejo resto del sector hortícola',\n",
              " '------Complejo garbanzos',\n",
              " '------Complejo garbanzos',\n",
              " '---Complejo forestal',\n",
              " '------Complejo forestal',\n",
              " '------Complejo forestal',\n",
              " '------Complejo forestal',\n",
              " '------Complejo forestal',\n",
              " '---Complejo textil',\n",
              " '------Complejo textil',\n",
              " '------Complejo textil',\n",
              " '------Complejo textil',\n",
              " '------Complejo textil',\n",
              " '---Complejo avícola',\n",
              " '------Complejo avícola',\n",
              " '------Complejo avícola',\n",
              " '------Complejo avícola',\n",
              " '------Complejo avícola',\n",
              " '------Complejo avícola',\n",
              " '---Complejo miel',\n",
              " '------Complejo miel',\n",
              " '------Complejo miel',\n",
              " '------Complejo miel',\n",
              " '------Complejo miel',\n",
              " '---Complejo azucarero',\n",
              " '------Complejo azucarero',\n",
              " '------Complejo azucarero',\n",
              " '------Complejo azucarero',\n",
              " '------Complejo azucarero',\n",
              " '------Complejo azucarero',\n",
              " '---Complejo tabacalero',\n",
              " '------Complejo tabacalero',\n",
              " '------Complejo tabacalero',\n",
              " '------Complejo tabacalero',\n",
              " '------Complejo tabacalero',\n",
              " '------Complejo tabacalero',\n",
              " '---Complejo té',\n",
              " '------Complejo té',\n",
              " '------Complejo té',\n",
              " '------Complejo té',\n",
              " '------Complejo té',\n",
              " '---Complejo yerba mate',\n",
              " '------Complejo yerba mate',\n",
              " '------Complejo yerba mate',\n",
              " '------Complejo yerba mate',\n",
              " '---Complejo equino',\n",
              " '------Complejo equino',\n",
              " '------Complejo equino',\n",
              " '------Complejo equino',\n",
              " '---Resto de exportaciones']"
            ]
          },
          "execution_count": 190,
          "metadata": {},
          "output_type": "execute_result"
        }
      ],
      "source": [
        "lista_padres(df)"
      ]
    },
    {
      "cell_type": "code",
      "execution_count": 17,
      "metadata": {},
      "outputs": [],
      "source": [
        "df1 = sf.read_excel('complexp_est_porcentual_2017_2020.xlsx', read_style=True, use_openpyxl_styles=False)\n",
        "df1.columns = ['Complejos','2017','2018','2019','2020']\n",
        "df1 = df1.iloc[4:68]\n",
        "df1 =  df1.reset_index(drop=True)"
      ]
    },
    {
      "cell_type": "code",
      "execution_count": 18,
      "metadata": {},
      "outputs": [],
      "source": [
        "def listaColumnas(df):\n",
        "    columnas = []\n",
        "    for e in list(df.columns):\n",
        "        columnas.append(str(e))\n",
        "    return columnas\n",
        "\n",
        "def indiceSinEspacios(lista, buscar):\n",
        "    for idx, e in enumerate(lista):\n",
        "        if(str(e).strip()==buscar):\n",
        "            return idx\n",
        "\n",
        "def datosComplejo (df, complejo, anio):\n",
        "    anio = str(anio)\n",
        "    complejo = str(complejo)\n",
        "    indice_anio = listaColumnas(df).index(anio)\n",
        "    indice_del_complejo = indiceSinEspacios(list(df[str(df.columns[0])]), complejo)\n",
        "    return float(df.loc[indice_del_complejo][indice_anio])\n"
      ]
    },
    {
      "cell_type": "markdown",
      "metadata": {},
      "source": [
        "-si es negrita su padre es pples complejos\n",
        "\n",
        "-si no es negrita su padre es el ultimo elemento cuyo padre es pples complejos\n",
        "\n",
        "-si tiene una tabulacion su padre es el ultimo elemento cuyo padre es el ultimo elemento de pples complejos\n",
        "\n",
        "-Si tiene 2 tab su padre es el ultimo"
      ]
    },
    {
      "cell_type": "code",
      "execution_count": 19,
      "metadata": {},
      "outputs": [],
      "source": [
        "def datos_para_teemap(df, anio, redondeo):\n",
        "    datos = []\n",
        "    nombres = []\n",
        "    padres = ['','Total de exportaciones']\n",
        "    ultimo_complejo = ''\n",
        "    ultimo_padre = 'A'\n",
        "    ultima_negrita = 'B'\n",
        "    ultima_1tab = 'C'\n",
        "    for complejo in df.Complejos:\n",
        "        ultimo_complejo = str(complejo).strip()\n",
        "        \n",
        "        datos.append(round(datosComplejo (df, ultimo_complejo, anio),redondeo))\n",
        "        nombres.append(ultimo_complejo)\n",
        "        if(str(complejo)!= 'Resto de exportaciones' and str(complejo) != 'Total de exportaciones' and str(complejo) != 'Principales complejos'):\n",
        "            if(complejo.style.bold):\n",
        "                #print('N ' + ultimo_complejo)\n",
        "                ultimo_padre = 'Principales complejos'\n",
        "                padres.append(ultimo_padre)\n",
        "                ultima_negrita = ultimo_complejo\n",
        "                ultima_1tab = ultimo_complejo\n",
        "            elif(complejo.style.bold == False):\n",
        "                if(str(complejo)[3] != ' '):\n",
        "                    #print('->' + ultimo_complejo)\n",
        "                    ultimo_padre = ultima_negrita\n",
        "                    \n",
        "                    padres.append(ultimo_padre)\n",
        "                    ultima_1tab = ultimo_complejo\n",
        "                else:\n",
        "                    #print('->->' + ultimo_complejo)\n",
        "                    ultimo_padre = ultima_1tab\n",
        "                    padres.append(ultimo_padre)\n",
        "        elif(str(complejo) == 'Resto de exportaciones'):\n",
        "            padres.append('Total de exportaciones')\n",
        "    return {\n",
        "        'nombres': nombres,\n",
        "        'padres': padres,\n",
        "        'datos': datos \n",
        "    }\n",
        "\n",
        "\n",
        "        "
      ]
    },
    {
      "cell_type": "code",
      "execution_count": 20,
      "metadata": {},
      "outputs": [
        {
          "name": "stdout",
          "output_type": "stream",
          "text": [
            "['Carne bovina', 'Cueros bovinos', 'Complejo lácteo', 'Complejo petrolero-petroquímico', 'Petróleo y gas'] ['Complejo carne y cuero bovinos', 'Complejo carne y cuero bovinos', 'Sector bovino', 'Principales complejos', 'Complejo petrolero-petroquímico'] [0.25, 0.8, 0.1, 6.67, 5.7]\n"
          ]
        }
      ],
      "source": [
        "a = 35\n",
        "b = 30\n",
        "print(\n",
        "    datos_para_teemap(df1,2020,2)['nombres'][b:a],\n",
        "    datos_para_teemap(df1,2020,2)['padres'][b:a],\n",
        "    datos_para_teemap(df1,2020,2)['datos'][b:a]\n",
        ")"
      ]
    },
    {
      "cell_type": "code",
      "execution_count": 21,
      "metadata": {
        "id": "UHm6qgn2to20"
      },
      "outputs": [],
      "source": [
        "df = pd.read_excel('complexp_est_porcentual SOLO2020.xls')\n",
        "#Se queda con la primera fila de los valores\n",
        "df = df.iloc[[0]]\n",
        "#Construye una df con los nombres de los complejos/sectores\n",
        "df = df[[\n",
        "  'Sector oleaginoso',\n",
        "  'Sector cerealero',\n",
        "  'Complejo automotriz',\n",
        "  'Sector minero metalífero y litio',\n",
        "  'Sector bovino',\n",
        "  'Complejo petrolero-petroquímico',\n",
        "  'Sector frutícola',\n",
        "  'Complejo pesquero',\n",
        "  'Sector hortícola',\n",
        "  'Complejo farmacéutico',\n",
        "  'Complejo forestal',\n",
        "  'Complejo avícola',\n",
        "  'Complejo textil',\n",
        "  'Complejo tabacalero',\n",
        "  'Complejo miel',\n",
        "  'Complejo azucarero',\n",
        "  'Complejo yerba mate',\n",
        "  'Complejo té',\n",
        "  'Complejo equino',\n",
        "  'Resto de exportaciones'\n",
        "]]\n",
        "#Lista vacía\n",
        "datos = []\n",
        "#Cada dato individual que esté en la primera fila de df (convdertido en float y redondeado a 2 dec) será agregado en la lista datos\n",
        "for dato in df.iloc[[0]]:\n",
        "  datos.append(round(float(df[dato]),2))"
      ]
    },
    {
      "cell_type": "code",
      "execution_count": 22,
      "metadata": {
        "id": "Nqf34MDexRY4"
      },
      "outputs": [],
      "source": [
        "def convert(s):\n",
        "    # initialization of string to \"\"\n",
        "    new = \"\"\n",
        "    # traverse in the string \n",
        "    for x in s:\n",
        "        new += x \n",
        "    # return string \n",
        "    return new"
      ]
    },
    {
      "cell_type": "code",
      "execution_count": 23,
      "metadata": {
        "id": "ipHQjHhswH77"
      },
      "outputs": [],
      "source": [
        "#Agarra los nombres de las columnas, las convierte en string con la función del anterior chunk y los convierte en lista para agregarlo en la lista nombres.\n",
        "nombres = []\n",
        "for s in list(df.columns):\n",
        "  nombres.append(convert(s))\n",
        "etiquetas = ['']+['Exportaciones']+nombres+['Otros']\n",
        "valores = [0]+[100]+datos+[100-sum(datos)]"
      ]
    },
    {
      "cell_type": "code",
      "execution_count": 35,
      "metadata": {
        "colab": {
          "base_uri": "https://localhost:8080/",
          "height": 1000
        },
        "id": "2-RmRy0ls-VF",
        "outputId": "5538ca2d-bbd2-457a-8e54-4dd2c3bfa524"
      },
      "outputs": [
        {
          "data": {
            "application/vnd.plotly.v1+json": {
              "config": {
                "plotlyServerURL": "https://plot.ly"
              },
              "data": [
                {
                  "branchvalues": "total",
                  "labels": [
                    "Total de exportaciones",
                    "Principales complejos",
                    "Sector oleaginoso",
                    "Complejo soja",
                    "Harinas y pellets de soja",
                    "Aceite de soja",
                    "Porotos de soja",
                    "Biodiésel",
                    "Otras exportaciones de soja",
                    "Complejo maní",
                    "Complejo girasol",
                    "Complejo olivícola",
                    "Sector cerealero",
                    "Complejo maicero",
                    "Complejo triguero",
                    "Complejo cebada",
                    "Complejo arrocero",
                    "Complejo automotriz",
                    "Vehículos para transporte de mercancías",
                    "Chasis, partes y neumáticos",
                    "Vehículos para transporte de personas",
                    "Sector minero metalífero y litio",
                    "Complejo oro y plata",
                    "Complejo siderúrgico",
                    "Complejo aluminio",
                    "Complejo litio",
                    "Complejo plomo",
                    "Complejo otros minerales metalíferos",
                    "Sector bovino",
                    "Complejo carne y cuero bovinos",
                    "Carne bovina",
                    "Cueros bovinos",
                    "Complejo lácteo",
                    "Complejo petrolero-petroquímico",
                    "Petróleo y gas",
                    "Petroquímico",
                    "Sector frutícola",
                    "Complejo uva",
                    "Complejo limón",
                    "Complejo peras y manzanas",
                    "Complejo arándanos y frutos similares",
                    "Complejo cítricos, excluido el limón",
                    "Complejo resto del sector frutícola",
                    "Complejo pesquero",
                    "Crustáceos y moluscos",
                    "Pescados frescos y congelados",
                    "Harinas y conservas de pescados, crustáceos y moluscos",
                    "Sector hortícola",
                    "Complejo porotos",
                    "Complejo papa",
                    "Complejo ajo",
                    "Complejo garbanzos",
                    "Complejo resto del sector hortícola",
                    "Complejo farmacéutico",
                    "Complejo forestal",
                    "Complejo avícola",
                    "Complejo textil",
                    "Complejo tabacalero",
                    "Complejo miel",
                    "Complejo azucarero",
                    "Complejo yerba mate",
                    "Complejo té",
                    "Complejo equino",
                    "Resto de exportaciones"
                  ],
                  "marker": {
                    "colors": [
                      100,
                      91.223,
                      30.483,
                      27.084,
                      14.223,
                      7.094,
                      4.27,
                      0.853,
                      0.644,
                      1.955,
                      1.202,
                      0.241,
                      17.381,
                      11.208,
                      4.502,
                      1.367,
                      0.304,
                      7.962,
                      2.654,
                      2.654,
                      2.654,
                      1.825,
                      0.304,
                      0.304,
                      0.304,
                      0.304,
                      0.304,
                      0.304,
                      1.15,
                      1.05,
                      0.247,
                      0.803,
                      0.1,
                      6.669,
                      5.701,
                      0.968,
                      3.952,
                      1.794,
                      0.951,
                      0.655,
                      0.158,
                      0.138,
                      0.256,
                      3.153,
                      2.346,
                      0.707,
                      0.1,
                      1.629,
                      0.676,
                      0.347,
                      0.318,
                      0.122,
                      0.166,
                      1.575,
                      1.103,
                      0.605,
                      0.591,
                      0.432,
                      0.315,
                      0.297,
                      0.171,
                      0.141,
                      0.11,
                      8.777
                    ]
                  },
                  "parents": [
                    "",
                    "Total de exportaciones",
                    "Principales complejos",
                    "Sector oleaginoso",
                    "Complejo soja",
                    "Complejo soja",
                    "Complejo soja",
                    "Complejo soja",
                    "Complejo soja",
                    "Sector oleaginoso",
                    "Sector oleaginoso",
                    "Sector oleaginoso",
                    "Principales complejos",
                    "Sector cerealero",
                    "Sector cerealero",
                    "Sector cerealero",
                    "Sector cerealero",
                    "Principales complejos",
                    "Complejo automotriz",
                    "Complejo automotriz",
                    "Complejo automotriz",
                    "Principales complejos",
                    "Sector minero metalífero y litio",
                    "Sector minero metalífero y litio",
                    "Sector minero metalífero y litio",
                    "Sector minero metalífero y litio",
                    "Sector minero metalífero y litio",
                    "Sector minero metalífero y litio",
                    "Principales complejos",
                    "Sector bovino",
                    "Complejo carne y cuero bovinos",
                    "Complejo carne y cuero bovinos",
                    "Sector bovino",
                    "Principales complejos",
                    "Complejo petrolero-petroquímico",
                    "Complejo petrolero-petroquímico",
                    "Principales complejos",
                    "Sector frutícola",
                    "Sector frutícola",
                    "Sector frutícola",
                    "Sector frutícola",
                    "Sector frutícola",
                    "Sector frutícola",
                    "Principales complejos",
                    "Complejo pesquero",
                    "Complejo pesquero",
                    "Complejo pesquero",
                    "Principales complejos",
                    "Sector hortícola",
                    "Sector hortícola",
                    "Sector hortícola",
                    "Sector hortícola",
                    "Sector hortícola",
                    "Principales complejos",
                    "Principales complejos",
                    "Principales complejos",
                    "Principales complejos",
                    "Principales complejos",
                    "Principales complejos",
                    "Principales complejos",
                    "Principales complejos",
                    "Principales complejos",
                    "Principales complejos",
                    "Total de exportaciones"
                  ],
                  "sort": true,
                  "type": "treemap",
                  "values": [
                    100,
                    91.223,
                    30.483,
                    27.084,
                    14.223,
                    7.094,
                    4.27,
                    0.853,
                    0.644,
                    1.955,
                    1.202,
                    0.241,
                    17.381,
                    11.208,
                    4.502,
                    1.367,
                    0.304,
                    7.962,
                    2.654,
                    2.654,
                    2.654,
                    1.825,
                    0.304,
                    0.304,
                    0.304,
                    0.304,
                    0.304,
                    0.304,
                    1.15,
                    1.05,
                    0.247,
                    0.803,
                    0.1,
                    6.669,
                    5.701,
                    0.968,
                    3.952,
                    1.794,
                    0.951,
                    0.655,
                    0.158,
                    0.138,
                    0.256,
                    3.153,
                    2.346,
                    0.707,
                    0.1,
                    1.629,
                    0.676,
                    0.347,
                    0.318,
                    0.122,
                    0.166,
                    1.575,
                    1.103,
                    0.605,
                    0.591,
                    0.432,
                    0.315,
                    0.297,
                    0.171,
                    0.141,
                    0.11,
                    8.777
                  ]
                }
              ],
              "layout": {
                "margin": {
                  "b": 0,
                  "l": 0,
                  "r": 0,
                  "t": 0
                },
                "template": {
                  "data": {
                    "bar": [
                      {
                        "error_x": {
                          "color": "#2a3f5f"
                        },
                        "error_y": {
                          "color": "#2a3f5f"
                        },
                        "marker": {
                          "line": {
                            "color": "#E5ECF6",
                            "width": 0.5
                          },
                          "pattern": {
                            "fillmode": "overlay",
                            "size": 10,
                            "solidity": 0.2
                          }
                        },
                        "type": "bar"
                      }
                    ],
                    "barpolar": [
                      {
                        "marker": {
                          "line": {
                            "color": "#E5ECF6",
                            "width": 0.5
                          },
                          "pattern": {
                            "fillmode": "overlay",
                            "size": 10,
                            "solidity": 0.2
                          }
                        },
                        "type": "barpolar"
                      }
                    ],
                    "carpet": [
                      {
                        "aaxis": {
                          "endlinecolor": "#2a3f5f",
                          "gridcolor": "white",
                          "linecolor": "white",
                          "minorgridcolor": "white",
                          "startlinecolor": "#2a3f5f"
                        },
                        "baxis": {
                          "endlinecolor": "#2a3f5f",
                          "gridcolor": "white",
                          "linecolor": "white",
                          "minorgridcolor": "white",
                          "startlinecolor": "#2a3f5f"
                        },
                        "type": "carpet"
                      }
                    ],
                    "choropleth": [
                      {
                        "colorbar": {
                          "outlinewidth": 0,
                          "ticks": ""
                        },
                        "type": "choropleth"
                      }
                    ],
                    "contour": [
                      {
                        "colorbar": {
                          "outlinewidth": 0,
                          "ticks": ""
                        },
                        "colorscale": [
                          [
                            0,
                            "#0d0887"
                          ],
                          [
                            0.1111111111111111,
                            "#46039f"
                          ],
                          [
                            0.2222222222222222,
                            "#7201a8"
                          ],
                          [
                            0.3333333333333333,
                            "#9c179e"
                          ],
                          [
                            0.4444444444444444,
                            "#bd3786"
                          ],
                          [
                            0.5555555555555556,
                            "#d8576b"
                          ],
                          [
                            0.6666666666666666,
                            "#ed7953"
                          ],
                          [
                            0.7777777777777778,
                            "#fb9f3a"
                          ],
                          [
                            0.8888888888888888,
                            "#fdca26"
                          ],
                          [
                            1,
                            "#f0f921"
                          ]
                        ],
                        "type": "contour"
                      }
                    ],
                    "contourcarpet": [
                      {
                        "colorbar": {
                          "outlinewidth": 0,
                          "ticks": ""
                        },
                        "type": "contourcarpet"
                      }
                    ],
                    "heatmap": [
                      {
                        "colorbar": {
                          "outlinewidth": 0,
                          "ticks": ""
                        },
                        "colorscale": [
                          [
                            0,
                            "#0d0887"
                          ],
                          [
                            0.1111111111111111,
                            "#46039f"
                          ],
                          [
                            0.2222222222222222,
                            "#7201a8"
                          ],
                          [
                            0.3333333333333333,
                            "#9c179e"
                          ],
                          [
                            0.4444444444444444,
                            "#bd3786"
                          ],
                          [
                            0.5555555555555556,
                            "#d8576b"
                          ],
                          [
                            0.6666666666666666,
                            "#ed7953"
                          ],
                          [
                            0.7777777777777778,
                            "#fb9f3a"
                          ],
                          [
                            0.8888888888888888,
                            "#fdca26"
                          ],
                          [
                            1,
                            "#f0f921"
                          ]
                        ],
                        "type": "heatmap"
                      }
                    ],
                    "heatmapgl": [
                      {
                        "colorbar": {
                          "outlinewidth": 0,
                          "ticks": ""
                        },
                        "colorscale": [
                          [
                            0,
                            "#0d0887"
                          ],
                          [
                            0.1111111111111111,
                            "#46039f"
                          ],
                          [
                            0.2222222222222222,
                            "#7201a8"
                          ],
                          [
                            0.3333333333333333,
                            "#9c179e"
                          ],
                          [
                            0.4444444444444444,
                            "#bd3786"
                          ],
                          [
                            0.5555555555555556,
                            "#d8576b"
                          ],
                          [
                            0.6666666666666666,
                            "#ed7953"
                          ],
                          [
                            0.7777777777777778,
                            "#fb9f3a"
                          ],
                          [
                            0.8888888888888888,
                            "#fdca26"
                          ],
                          [
                            1,
                            "#f0f921"
                          ]
                        ],
                        "type": "heatmapgl"
                      }
                    ],
                    "histogram": [
                      {
                        "marker": {
                          "pattern": {
                            "fillmode": "overlay",
                            "size": 10,
                            "solidity": 0.2
                          }
                        },
                        "type": "histogram"
                      }
                    ],
                    "histogram2d": [
                      {
                        "colorbar": {
                          "outlinewidth": 0,
                          "ticks": ""
                        },
                        "colorscale": [
                          [
                            0,
                            "#0d0887"
                          ],
                          [
                            0.1111111111111111,
                            "#46039f"
                          ],
                          [
                            0.2222222222222222,
                            "#7201a8"
                          ],
                          [
                            0.3333333333333333,
                            "#9c179e"
                          ],
                          [
                            0.4444444444444444,
                            "#bd3786"
                          ],
                          [
                            0.5555555555555556,
                            "#d8576b"
                          ],
                          [
                            0.6666666666666666,
                            "#ed7953"
                          ],
                          [
                            0.7777777777777778,
                            "#fb9f3a"
                          ],
                          [
                            0.8888888888888888,
                            "#fdca26"
                          ],
                          [
                            1,
                            "#f0f921"
                          ]
                        ],
                        "type": "histogram2d"
                      }
                    ],
                    "histogram2dcontour": [
                      {
                        "colorbar": {
                          "outlinewidth": 0,
                          "ticks": ""
                        },
                        "colorscale": [
                          [
                            0,
                            "#0d0887"
                          ],
                          [
                            0.1111111111111111,
                            "#46039f"
                          ],
                          [
                            0.2222222222222222,
                            "#7201a8"
                          ],
                          [
                            0.3333333333333333,
                            "#9c179e"
                          ],
                          [
                            0.4444444444444444,
                            "#bd3786"
                          ],
                          [
                            0.5555555555555556,
                            "#d8576b"
                          ],
                          [
                            0.6666666666666666,
                            "#ed7953"
                          ],
                          [
                            0.7777777777777778,
                            "#fb9f3a"
                          ],
                          [
                            0.8888888888888888,
                            "#fdca26"
                          ],
                          [
                            1,
                            "#f0f921"
                          ]
                        ],
                        "type": "histogram2dcontour"
                      }
                    ],
                    "mesh3d": [
                      {
                        "colorbar": {
                          "outlinewidth": 0,
                          "ticks": ""
                        },
                        "type": "mesh3d"
                      }
                    ],
                    "parcoords": [
                      {
                        "line": {
                          "colorbar": {
                            "outlinewidth": 0,
                            "ticks": ""
                          }
                        },
                        "type": "parcoords"
                      }
                    ],
                    "pie": [
                      {
                        "automargin": true,
                        "type": "pie"
                      }
                    ],
                    "scatter": [
                      {
                        "marker": {
                          "colorbar": {
                            "outlinewidth": 0,
                            "ticks": ""
                          }
                        },
                        "type": "scatter"
                      }
                    ],
                    "scatter3d": [
                      {
                        "line": {
                          "colorbar": {
                            "outlinewidth": 0,
                            "ticks": ""
                          }
                        },
                        "marker": {
                          "colorbar": {
                            "outlinewidth": 0,
                            "ticks": ""
                          }
                        },
                        "type": "scatter3d"
                      }
                    ],
                    "scattercarpet": [
                      {
                        "marker": {
                          "colorbar": {
                            "outlinewidth": 0,
                            "ticks": ""
                          }
                        },
                        "type": "scattercarpet"
                      }
                    ],
                    "scattergeo": [
                      {
                        "marker": {
                          "colorbar": {
                            "outlinewidth": 0,
                            "ticks": ""
                          }
                        },
                        "type": "scattergeo"
                      }
                    ],
                    "scattergl": [
                      {
                        "marker": {
                          "colorbar": {
                            "outlinewidth": 0,
                            "ticks": ""
                          }
                        },
                        "type": "scattergl"
                      }
                    ],
                    "scattermapbox": [
                      {
                        "marker": {
                          "colorbar": {
                            "outlinewidth": 0,
                            "ticks": ""
                          }
                        },
                        "type": "scattermapbox"
                      }
                    ],
                    "scatterpolar": [
                      {
                        "marker": {
                          "colorbar": {
                            "outlinewidth": 0,
                            "ticks": ""
                          }
                        },
                        "type": "scatterpolar"
                      }
                    ],
                    "scatterpolargl": [
                      {
                        "marker": {
                          "colorbar": {
                            "outlinewidth": 0,
                            "ticks": ""
                          }
                        },
                        "type": "scatterpolargl"
                      }
                    ],
                    "scatterternary": [
                      {
                        "marker": {
                          "colorbar": {
                            "outlinewidth": 0,
                            "ticks": ""
                          }
                        },
                        "type": "scatterternary"
                      }
                    ],
                    "surface": [
                      {
                        "colorbar": {
                          "outlinewidth": 0,
                          "ticks": ""
                        },
                        "colorscale": [
                          [
                            0,
                            "#0d0887"
                          ],
                          [
                            0.1111111111111111,
                            "#46039f"
                          ],
                          [
                            0.2222222222222222,
                            "#7201a8"
                          ],
                          [
                            0.3333333333333333,
                            "#9c179e"
                          ],
                          [
                            0.4444444444444444,
                            "#bd3786"
                          ],
                          [
                            0.5555555555555556,
                            "#d8576b"
                          ],
                          [
                            0.6666666666666666,
                            "#ed7953"
                          ],
                          [
                            0.7777777777777778,
                            "#fb9f3a"
                          ],
                          [
                            0.8888888888888888,
                            "#fdca26"
                          ],
                          [
                            1,
                            "#f0f921"
                          ]
                        ],
                        "type": "surface"
                      }
                    ],
                    "table": [
                      {
                        "cells": {
                          "fill": {
                            "color": "#EBF0F8"
                          },
                          "line": {
                            "color": "white"
                          }
                        },
                        "header": {
                          "fill": {
                            "color": "#C8D4E3"
                          },
                          "line": {
                            "color": "white"
                          }
                        },
                        "type": "table"
                      }
                    ]
                  },
                  "layout": {
                    "annotationdefaults": {
                      "arrowcolor": "#2a3f5f",
                      "arrowhead": 0,
                      "arrowwidth": 1
                    },
                    "autotypenumbers": "strict",
                    "coloraxis": {
                      "colorbar": {
                        "outlinewidth": 0,
                        "ticks": ""
                      }
                    },
                    "colorscale": {
                      "diverging": [
                        [
                          0,
                          "#8e0152"
                        ],
                        [
                          0.1,
                          "#c51b7d"
                        ],
                        [
                          0.2,
                          "#de77ae"
                        ],
                        [
                          0.3,
                          "#f1b6da"
                        ],
                        [
                          0.4,
                          "#fde0ef"
                        ],
                        [
                          0.5,
                          "#f7f7f7"
                        ],
                        [
                          0.6,
                          "#e6f5d0"
                        ],
                        [
                          0.7,
                          "#b8e186"
                        ],
                        [
                          0.8,
                          "#7fbc41"
                        ],
                        [
                          0.9,
                          "#4d9221"
                        ],
                        [
                          1,
                          "#276419"
                        ]
                      ],
                      "sequential": [
                        [
                          0,
                          "#0d0887"
                        ],
                        [
                          0.1111111111111111,
                          "#46039f"
                        ],
                        [
                          0.2222222222222222,
                          "#7201a8"
                        ],
                        [
                          0.3333333333333333,
                          "#9c179e"
                        ],
                        [
                          0.4444444444444444,
                          "#bd3786"
                        ],
                        [
                          0.5555555555555556,
                          "#d8576b"
                        ],
                        [
                          0.6666666666666666,
                          "#ed7953"
                        ],
                        [
                          0.7777777777777778,
                          "#fb9f3a"
                        ],
                        [
                          0.8888888888888888,
                          "#fdca26"
                        ],
                        [
                          1,
                          "#f0f921"
                        ]
                      ],
                      "sequentialminus": [
                        [
                          0,
                          "#0d0887"
                        ],
                        [
                          0.1111111111111111,
                          "#46039f"
                        ],
                        [
                          0.2222222222222222,
                          "#7201a8"
                        ],
                        [
                          0.3333333333333333,
                          "#9c179e"
                        ],
                        [
                          0.4444444444444444,
                          "#bd3786"
                        ],
                        [
                          0.5555555555555556,
                          "#d8576b"
                        ],
                        [
                          0.6666666666666666,
                          "#ed7953"
                        ],
                        [
                          0.7777777777777778,
                          "#fb9f3a"
                        ],
                        [
                          0.8888888888888888,
                          "#fdca26"
                        ],
                        [
                          1,
                          "#f0f921"
                        ]
                      ]
                    },
                    "colorway": [
                      "#636efa",
                      "#EF553B",
                      "#00cc96",
                      "#ab63fa",
                      "#FFA15A",
                      "#19d3f3",
                      "#FF6692",
                      "#B6E880",
                      "#FF97FF",
                      "#FECB52"
                    ],
                    "font": {
                      "color": "#2a3f5f"
                    },
                    "geo": {
                      "bgcolor": "white",
                      "lakecolor": "white",
                      "landcolor": "#E5ECF6",
                      "showlakes": true,
                      "showland": true,
                      "subunitcolor": "white"
                    },
                    "hoverlabel": {
                      "align": "left"
                    },
                    "hovermode": "closest",
                    "mapbox": {
                      "style": "light"
                    },
                    "paper_bgcolor": "white",
                    "plot_bgcolor": "#E5ECF6",
                    "polar": {
                      "angularaxis": {
                        "gridcolor": "white",
                        "linecolor": "white",
                        "ticks": ""
                      },
                      "bgcolor": "#E5ECF6",
                      "radialaxis": {
                        "gridcolor": "white",
                        "linecolor": "white",
                        "ticks": ""
                      }
                    },
                    "scene": {
                      "xaxis": {
                        "backgroundcolor": "#E5ECF6",
                        "gridcolor": "white",
                        "gridwidth": 2,
                        "linecolor": "white",
                        "showbackground": true,
                        "ticks": "",
                        "zerolinecolor": "white"
                      },
                      "yaxis": {
                        "backgroundcolor": "#E5ECF6",
                        "gridcolor": "white",
                        "gridwidth": 2,
                        "linecolor": "white",
                        "showbackground": true,
                        "ticks": "",
                        "zerolinecolor": "white"
                      },
                      "zaxis": {
                        "backgroundcolor": "#E5ECF6",
                        "gridcolor": "white",
                        "gridwidth": 2,
                        "linecolor": "white",
                        "showbackground": true,
                        "ticks": "",
                        "zerolinecolor": "white"
                      }
                    },
                    "shapedefaults": {
                      "line": {
                        "color": "#2a3f5f"
                      }
                    },
                    "ternary": {
                      "aaxis": {
                        "gridcolor": "white",
                        "linecolor": "white",
                        "ticks": ""
                      },
                      "baxis": {
                        "gridcolor": "white",
                        "linecolor": "white",
                        "ticks": ""
                      },
                      "bgcolor": "#E5ECF6",
                      "caxis": {
                        "gridcolor": "white",
                        "linecolor": "white",
                        "ticks": ""
                      }
                    },
                    "title": {
                      "x": 0.05
                    },
                    "xaxis": {
                      "automargin": true,
                      "gridcolor": "white",
                      "linecolor": "white",
                      "ticks": "",
                      "title": {
                        "standoff": 15
                      },
                      "zerolinecolor": "white",
                      "zerolinewidth": 2
                    },
                    "yaxis": {
                      "automargin": true,
                      "gridcolor": "white",
                      "linecolor": "white",
                      "ticks": "",
                      "title": {
                        "standoff": 15
                      },
                      "zerolinecolor": "white",
                      "zerolinewidth": 2
                    }
                  }
                }
              }
            }
          },
          "metadata": {},
          "output_type": "display_data"
        }
      ],
      "source": [
        "a=49\n",
        "dic_treemap =  datos_para_teemap(df1,2020,3)\n",
        "fig = go.Figure(go.Treemap(\n",
        "    labels = dic_treemap['nombres'],\n",
        "    parents = dic_treemap['padres'],\n",
        "    branchvalues = 'total',\n",
        "    values = dic_treemap['datos'],\n",
        "    sort = True,\n",
        "     marker=dict(\n",
        "            colors=dic_treemap['datos']\n",
        "            )\n",
        "    \n",
        "))\n",
        "fig.update_traces(selector=dict(type='treemap'))\n",
        "fig.update_layout(margin = dict(t=0, l=0, r=0, b=0))\n",
        "fig.show()\n"
      ]
    },
    {
      "cell_type": "code",
      "execution_count": 71,
      "metadata": {},
      "outputs": [
        {
          "name": "stdout",
          "output_type": "stream",
          "text": [
            "['', 'Total exportaciones:', 'Total exportaciones:', 'Total exportaciones:', 'Total exportaciones:', 'Total exportaciones:', 'Total exportaciones:', 'Total exportaciones:', 'Total exportaciones:', 'Total exportaciones:', 'Total exportaciones:', 'Total exportaciones:', 'Total exportaciones:', 'Total exportaciones:', 'Total exportaciones:', 'Total exportaciones:', 'Total exportaciones:', 'Total exportaciones:', 'Total exportaciones:', 'Total exportaciones:', 'Total exportaciones:']\n"
          ]
        }
      ],
      "source": [
        "#a = (['Total exportaciones:']*(len(df_complejos.complejo_exportador)-1)).insert(0, '')\n",
        "\n",
        "padres = (['Total exportaciones:']*(len(df_complejos.complejo_exportador)-1))\n",
        "padres.insert(0, '')\n",
        "print(padres)"
      ]
    },
    {
      "cell_type": "code",
      "execution_count": 187,
      "metadata": {},
      "outputs": [
        {
          "name": "stdout",
          "output_type": "stream",
          "text": [
            "['Total exportaciones:', '---Sector oleaginoso', '------Complejo soja', '---------Harinas y pellets de soja', '---------Aceite de soja', '---------Porotos de soja', '---------Biodiésel', '---------Otras exportaciones de soja', '------Complejo girasol', '---------Aceite de girasol'] ['', 'Total exportaciones:', '------Complejo soja', '------Complejo soja', '------Complejo soja', '------Complejo soja', '------Complejo soja', '------Complejo soja', '------Complejo girasol', '------Complejo girasol'] [100.0, 37.0, 33.6, 18.0, 10.4, 2.8, 1.8, 0.7, 1.9, 1.4]\n"
          ]
        }
      ],
      "source": [
        "a = 10\n",
        "print(df.complejo_exportador[:a].to_list(),lista_padres(df)[:a],df.partim[:a].to_list())"
      ]
    },
    {
      "cell_type": "code",
      "execution_count": 186,
      "metadata": {},
      "outputs": [
        {
          "data": {
            "application/vnd.plotly.v1+json": {
              "config": {
                "plotlyServerURL": "https://plot.ly"
              },
              "data": [
                {
                  "branchvalues": "total",
                  "labels": [
                    "Total exportaciones:",
                    "---Sector oleaginoso",
                    "------Complejo soja",
                    "---------Harinas y pellets de soja",
                    "---------Aceite de soja",
                    "---------Porotos de soja",
                    "---------Biodiésel",
                    "---------Otras exportaciones de soja",
                    "------Complejo girasol",
                    "---------Aceite de girasol"
                  ],
                  "marker": {
                    "colors": [
                      100,
                      37,
                      33.6,
                      18,
                      10.4,
                      2.8,
                      1.8,
                      0.7,
                      1.9,
                      1.4
                    ]
                  },
                  "parents": [
                    "",
                    "Total exportaciones:",
                    "------Complejo soja",
                    "------Complejo soja",
                    "------Complejo soja",
                    "------Complejo soja",
                    "------Complejo soja",
                    "------Complejo soja",
                    "------Complejo girasol",
                    "------Complejo girasol"
                  ],
                  "sort": true,
                  "type": "treemap",
                  "values": [
                    100,
                    37,
                    33.6,
                    18,
                    10.4,
                    2.8,
                    1.8,
                    0.7,
                    1.9,
                    1.4
                  ]
                }
              ],
              "layout": {
                "margin": {
                  "b": 0,
                  "l": 0,
                  "r": 0,
                  "t": 0
                },
                "template": {
                  "data": {
                    "bar": [
                      {
                        "error_x": {
                          "color": "#2a3f5f"
                        },
                        "error_y": {
                          "color": "#2a3f5f"
                        },
                        "marker": {
                          "line": {
                            "color": "#E5ECF6",
                            "width": 0.5
                          },
                          "pattern": {
                            "fillmode": "overlay",
                            "size": 10,
                            "solidity": 0.2
                          }
                        },
                        "type": "bar"
                      }
                    ],
                    "barpolar": [
                      {
                        "marker": {
                          "line": {
                            "color": "#E5ECF6",
                            "width": 0.5
                          },
                          "pattern": {
                            "fillmode": "overlay",
                            "size": 10,
                            "solidity": 0.2
                          }
                        },
                        "type": "barpolar"
                      }
                    ],
                    "carpet": [
                      {
                        "aaxis": {
                          "endlinecolor": "#2a3f5f",
                          "gridcolor": "white",
                          "linecolor": "white",
                          "minorgridcolor": "white",
                          "startlinecolor": "#2a3f5f"
                        },
                        "baxis": {
                          "endlinecolor": "#2a3f5f",
                          "gridcolor": "white",
                          "linecolor": "white",
                          "minorgridcolor": "white",
                          "startlinecolor": "#2a3f5f"
                        },
                        "type": "carpet"
                      }
                    ],
                    "choropleth": [
                      {
                        "colorbar": {
                          "outlinewidth": 0,
                          "ticks": ""
                        },
                        "type": "choropleth"
                      }
                    ],
                    "contour": [
                      {
                        "colorbar": {
                          "outlinewidth": 0,
                          "ticks": ""
                        },
                        "colorscale": [
                          [
                            0,
                            "#0d0887"
                          ],
                          [
                            0.1111111111111111,
                            "#46039f"
                          ],
                          [
                            0.2222222222222222,
                            "#7201a8"
                          ],
                          [
                            0.3333333333333333,
                            "#9c179e"
                          ],
                          [
                            0.4444444444444444,
                            "#bd3786"
                          ],
                          [
                            0.5555555555555556,
                            "#d8576b"
                          ],
                          [
                            0.6666666666666666,
                            "#ed7953"
                          ],
                          [
                            0.7777777777777778,
                            "#fb9f3a"
                          ],
                          [
                            0.8888888888888888,
                            "#fdca26"
                          ],
                          [
                            1,
                            "#f0f921"
                          ]
                        ],
                        "type": "contour"
                      }
                    ],
                    "contourcarpet": [
                      {
                        "colorbar": {
                          "outlinewidth": 0,
                          "ticks": ""
                        },
                        "type": "contourcarpet"
                      }
                    ],
                    "heatmap": [
                      {
                        "colorbar": {
                          "outlinewidth": 0,
                          "ticks": ""
                        },
                        "colorscale": [
                          [
                            0,
                            "#0d0887"
                          ],
                          [
                            0.1111111111111111,
                            "#46039f"
                          ],
                          [
                            0.2222222222222222,
                            "#7201a8"
                          ],
                          [
                            0.3333333333333333,
                            "#9c179e"
                          ],
                          [
                            0.4444444444444444,
                            "#bd3786"
                          ],
                          [
                            0.5555555555555556,
                            "#d8576b"
                          ],
                          [
                            0.6666666666666666,
                            "#ed7953"
                          ],
                          [
                            0.7777777777777778,
                            "#fb9f3a"
                          ],
                          [
                            0.8888888888888888,
                            "#fdca26"
                          ],
                          [
                            1,
                            "#f0f921"
                          ]
                        ],
                        "type": "heatmap"
                      }
                    ],
                    "heatmapgl": [
                      {
                        "colorbar": {
                          "outlinewidth": 0,
                          "ticks": ""
                        },
                        "colorscale": [
                          [
                            0,
                            "#0d0887"
                          ],
                          [
                            0.1111111111111111,
                            "#46039f"
                          ],
                          [
                            0.2222222222222222,
                            "#7201a8"
                          ],
                          [
                            0.3333333333333333,
                            "#9c179e"
                          ],
                          [
                            0.4444444444444444,
                            "#bd3786"
                          ],
                          [
                            0.5555555555555556,
                            "#d8576b"
                          ],
                          [
                            0.6666666666666666,
                            "#ed7953"
                          ],
                          [
                            0.7777777777777778,
                            "#fb9f3a"
                          ],
                          [
                            0.8888888888888888,
                            "#fdca26"
                          ],
                          [
                            1,
                            "#f0f921"
                          ]
                        ],
                        "type": "heatmapgl"
                      }
                    ],
                    "histogram": [
                      {
                        "marker": {
                          "pattern": {
                            "fillmode": "overlay",
                            "size": 10,
                            "solidity": 0.2
                          }
                        },
                        "type": "histogram"
                      }
                    ],
                    "histogram2d": [
                      {
                        "colorbar": {
                          "outlinewidth": 0,
                          "ticks": ""
                        },
                        "colorscale": [
                          [
                            0,
                            "#0d0887"
                          ],
                          [
                            0.1111111111111111,
                            "#46039f"
                          ],
                          [
                            0.2222222222222222,
                            "#7201a8"
                          ],
                          [
                            0.3333333333333333,
                            "#9c179e"
                          ],
                          [
                            0.4444444444444444,
                            "#bd3786"
                          ],
                          [
                            0.5555555555555556,
                            "#d8576b"
                          ],
                          [
                            0.6666666666666666,
                            "#ed7953"
                          ],
                          [
                            0.7777777777777778,
                            "#fb9f3a"
                          ],
                          [
                            0.8888888888888888,
                            "#fdca26"
                          ],
                          [
                            1,
                            "#f0f921"
                          ]
                        ],
                        "type": "histogram2d"
                      }
                    ],
                    "histogram2dcontour": [
                      {
                        "colorbar": {
                          "outlinewidth": 0,
                          "ticks": ""
                        },
                        "colorscale": [
                          [
                            0,
                            "#0d0887"
                          ],
                          [
                            0.1111111111111111,
                            "#46039f"
                          ],
                          [
                            0.2222222222222222,
                            "#7201a8"
                          ],
                          [
                            0.3333333333333333,
                            "#9c179e"
                          ],
                          [
                            0.4444444444444444,
                            "#bd3786"
                          ],
                          [
                            0.5555555555555556,
                            "#d8576b"
                          ],
                          [
                            0.6666666666666666,
                            "#ed7953"
                          ],
                          [
                            0.7777777777777778,
                            "#fb9f3a"
                          ],
                          [
                            0.8888888888888888,
                            "#fdca26"
                          ],
                          [
                            1,
                            "#f0f921"
                          ]
                        ],
                        "type": "histogram2dcontour"
                      }
                    ],
                    "mesh3d": [
                      {
                        "colorbar": {
                          "outlinewidth": 0,
                          "ticks": ""
                        },
                        "type": "mesh3d"
                      }
                    ],
                    "parcoords": [
                      {
                        "line": {
                          "colorbar": {
                            "outlinewidth": 0,
                            "ticks": ""
                          }
                        },
                        "type": "parcoords"
                      }
                    ],
                    "pie": [
                      {
                        "automargin": true,
                        "type": "pie"
                      }
                    ],
                    "scatter": [
                      {
                        "marker": {
                          "colorbar": {
                            "outlinewidth": 0,
                            "ticks": ""
                          }
                        },
                        "type": "scatter"
                      }
                    ],
                    "scatter3d": [
                      {
                        "line": {
                          "colorbar": {
                            "outlinewidth": 0,
                            "ticks": ""
                          }
                        },
                        "marker": {
                          "colorbar": {
                            "outlinewidth": 0,
                            "ticks": ""
                          }
                        },
                        "type": "scatter3d"
                      }
                    ],
                    "scattercarpet": [
                      {
                        "marker": {
                          "colorbar": {
                            "outlinewidth": 0,
                            "ticks": ""
                          }
                        },
                        "type": "scattercarpet"
                      }
                    ],
                    "scattergeo": [
                      {
                        "marker": {
                          "colorbar": {
                            "outlinewidth": 0,
                            "ticks": ""
                          }
                        },
                        "type": "scattergeo"
                      }
                    ],
                    "scattergl": [
                      {
                        "marker": {
                          "colorbar": {
                            "outlinewidth": 0,
                            "ticks": ""
                          }
                        },
                        "type": "scattergl"
                      }
                    ],
                    "scattermapbox": [
                      {
                        "marker": {
                          "colorbar": {
                            "outlinewidth": 0,
                            "ticks": ""
                          }
                        },
                        "type": "scattermapbox"
                      }
                    ],
                    "scatterpolar": [
                      {
                        "marker": {
                          "colorbar": {
                            "outlinewidth": 0,
                            "ticks": ""
                          }
                        },
                        "type": "scatterpolar"
                      }
                    ],
                    "scatterpolargl": [
                      {
                        "marker": {
                          "colorbar": {
                            "outlinewidth": 0,
                            "ticks": ""
                          }
                        },
                        "type": "scatterpolargl"
                      }
                    ],
                    "scatterternary": [
                      {
                        "marker": {
                          "colorbar": {
                            "outlinewidth": 0,
                            "ticks": ""
                          }
                        },
                        "type": "scatterternary"
                      }
                    ],
                    "surface": [
                      {
                        "colorbar": {
                          "outlinewidth": 0,
                          "ticks": ""
                        },
                        "colorscale": [
                          [
                            0,
                            "#0d0887"
                          ],
                          [
                            0.1111111111111111,
                            "#46039f"
                          ],
                          [
                            0.2222222222222222,
                            "#7201a8"
                          ],
                          [
                            0.3333333333333333,
                            "#9c179e"
                          ],
                          [
                            0.4444444444444444,
                            "#bd3786"
                          ],
                          [
                            0.5555555555555556,
                            "#d8576b"
                          ],
                          [
                            0.6666666666666666,
                            "#ed7953"
                          ],
                          [
                            0.7777777777777778,
                            "#fb9f3a"
                          ],
                          [
                            0.8888888888888888,
                            "#fdca26"
                          ],
                          [
                            1,
                            "#f0f921"
                          ]
                        ],
                        "type": "surface"
                      }
                    ],
                    "table": [
                      {
                        "cells": {
                          "fill": {
                            "color": "#EBF0F8"
                          },
                          "line": {
                            "color": "white"
                          }
                        },
                        "header": {
                          "fill": {
                            "color": "#C8D4E3"
                          },
                          "line": {
                            "color": "white"
                          }
                        },
                        "type": "table"
                      }
                    ]
                  },
                  "layout": {
                    "annotationdefaults": {
                      "arrowcolor": "#2a3f5f",
                      "arrowhead": 0,
                      "arrowwidth": 1
                    },
                    "autotypenumbers": "strict",
                    "coloraxis": {
                      "colorbar": {
                        "outlinewidth": 0,
                        "ticks": ""
                      }
                    },
                    "colorscale": {
                      "diverging": [
                        [
                          0,
                          "#8e0152"
                        ],
                        [
                          0.1,
                          "#c51b7d"
                        ],
                        [
                          0.2,
                          "#de77ae"
                        ],
                        [
                          0.3,
                          "#f1b6da"
                        ],
                        [
                          0.4,
                          "#fde0ef"
                        ],
                        [
                          0.5,
                          "#f7f7f7"
                        ],
                        [
                          0.6,
                          "#e6f5d0"
                        ],
                        [
                          0.7,
                          "#b8e186"
                        ],
                        [
                          0.8,
                          "#7fbc41"
                        ],
                        [
                          0.9,
                          "#4d9221"
                        ],
                        [
                          1,
                          "#276419"
                        ]
                      ],
                      "sequential": [
                        [
                          0,
                          "#0d0887"
                        ],
                        [
                          0.1111111111111111,
                          "#46039f"
                        ],
                        [
                          0.2222222222222222,
                          "#7201a8"
                        ],
                        [
                          0.3333333333333333,
                          "#9c179e"
                        ],
                        [
                          0.4444444444444444,
                          "#bd3786"
                        ],
                        [
                          0.5555555555555556,
                          "#d8576b"
                        ],
                        [
                          0.6666666666666666,
                          "#ed7953"
                        ],
                        [
                          0.7777777777777778,
                          "#fb9f3a"
                        ],
                        [
                          0.8888888888888888,
                          "#fdca26"
                        ],
                        [
                          1,
                          "#f0f921"
                        ]
                      ],
                      "sequentialminus": [
                        [
                          0,
                          "#0d0887"
                        ],
                        [
                          0.1111111111111111,
                          "#46039f"
                        ],
                        [
                          0.2222222222222222,
                          "#7201a8"
                        ],
                        [
                          0.3333333333333333,
                          "#9c179e"
                        ],
                        [
                          0.4444444444444444,
                          "#bd3786"
                        ],
                        [
                          0.5555555555555556,
                          "#d8576b"
                        ],
                        [
                          0.6666666666666666,
                          "#ed7953"
                        ],
                        [
                          0.7777777777777778,
                          "#fb9f3a"
                        ],
                        [
                          0.8888888888888888,
                          "#fdca26"
                        ],
                        [
                          1,
                          "#f0f921"
                        ]
                      ]
                    },
                    "colorway": [
                      "#636efa",
                      "#EF553B",
                      "#00cc96",
                      "#ab63fa",
                      "#FFA15A",
                      "#19d3f3",
                      "#FF6692",
                      "#B6E880",
                      "#FF97FF",
                      "#FECB52"
                    ],
                    "font": {
                      "color": "#2a3f5f"
                    },
                    "geo": {
                      "bgcolor": "white",
                      "lakecolor": "white",
                      "landcolor": "#E5ECF6",
                      "showlakes": true,
                      "showland": true,
                      "subunitcolor": "white"
                    },
                    "hoverlabel": {
                      "align": "left"
                    },
                    "hovermode": "closest",
                    "mapbox": {
                      "style": "light"
                    },
                    "paper_bgcolor": "white",
                    "plot_bgcolor": "#E5ECF6",
                    "polar": {
                      "angularaxis": {
                        "gridcolor": "white",
                        "linecolor": "white",
                        "ticks": ""
                      },
                      "bgcolor": "#E5ECF6",
                      "radialaxis": {
                        "gridcolor": "white",
                        "linecolor": "white",
                        "ticks": ""
                      }
                    },
                    "scene": {
                      "xaxis": {
                        "backgroundcolor": "#E5ECF6",
                        "gridcolor": "white",
                        "gridwidth": 2,
                        "linecolor": "white",
                        "showbackground": true,
                        "ticks": "",
                        "zerolinecolor": "white"
                      },
                      "yaxis": {
                        "backgroundcolor": "#E5ECF6",
                        "gridcolor": "white",
                        "gridwidth": 2,
                        "linecolor": "white",
                        "showbackground": true,
                        "ticks": "",
                        "zerolinecolor": "white"
                      },
                      "zaxis": {
                        "backgroundcolor": "#E5ECF6",
                        "gridcolor": "white",
                        "gridwidth": 2,
                        "linecolor": "white",
                        "showbackground": true,
                        "ticks": "",
                        "zerolinecolor": "white"
                      }
                    },
                    "shapedefaults": {
                      "line": {
                        "color": "#2a3f5f"
                      }
                    },
                    "ternary": {
                      "aaxis": {
                        "gridcolor": "white",
                        "linecolor": "white",
                        "ticks": ""
                      },
                      "baxis": {
                        "gridcolor": "white",
                        "linecolor": "white",
                        "ticks": ""
                      },
                      "bgcolor": "#E5ECF6",
                      "caxis": {
                        "gridcolor": "white",
                        "linecolor": "white",
                        "ticks": ""
                      }
                    },
                    "title": {
                      "x": 0.05
                    },
                    "xaxis": {
                      "automargin": true,
                      "gridcolor": "white",
                      "linecolor": "white",
                      "ticks": "",
                      "title": {
                        "standoff": 15
                      },
                      "zerolinecolor": "white",
                      "zerolinewidth": 2
                    },
                    "yaxis": {
                      "automargin": true,
                      "gridcolor": "white",
                      "linecolor": "white",
                      "ticks": "",
                      "title": {
                        "standoff": 15
                      },
                      "zerolinecolor": "white",
                      "zerolinewidth": 2
                    }
                  }
                }
              }
            }
          },
          "metadata": {},
          "output_type": "display_data"
        }
      ],
      "source": [
        "\n",
        "fig = go.Figure(go.Treemap(\n",
        "    labels = df.complejo_exportador[:a].to_list(),\n",
        "    parents = lista_padres(df)[:a],\n",
        "    branchvalues = 'total',\n",
        "    values = df.partim[:a].to_list(),\n",
        "    sort = True,\n",
        "     marker=dict(\n",
        "            colors=df.partim[:a].to_list()\n",
        "            )\n",
        "    \n",
        "))\n",
        "fig.update_traces(selector=dict(type='treemap'))\n",
        "fig.update_layout(margin = dict(t=0, l=0, r=0, b=0))\n",
        "fig.show()"
      ]
    },
    {
      "cell_type": "code",
      "execution_count": 92,
      "metadata": {},
      "outputs": [],
      "source": [
        "fig.write_image(\"cuadraditos-expo.pdf\")\n",
        "fig.write_html(\"cuadraditos-expo.html\")"
      ]
    }
  ],
  "metadata": {
    "colab": {
      "name": "cuadrados-con-plotly.ipynb",
      "provenance": []
    },
    "kernelspec": {
      "display_name": "Python 3",
      "name": "python3"
    },
    "language_info": {
      "codemirror_mode": {
        "name": "ipython",
        "version": 3
      },
      "file_extension": ".py",
      "mimetype": "text/x-python",
      "name": "python",
      "nbconvert_exporter": "python",
      "pygments_lexer": "ipython3",
      "version": "3.9.7"
    }
  },
  "nbformat": 4,
  "nbformat_minor": 0
}
